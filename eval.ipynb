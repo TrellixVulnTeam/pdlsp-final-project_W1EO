{
 "cells": [
  {
   "cell_type": "code",
   "execution_count": 340,
   "id": "2fdfe72c-52c9-4b34-b7dd-bed4ea581e3e",
   "metadata": {},
   "outputs": [],
   "source": [
    "import pandas as pd\n",
    "import json\n",
    "import collections\n",
    "import numpy as np\n",
    "from sklearn.ensemble import RandomForestRegressor, RandomForestClassifier\n",
    "import joblib\n",
    "from functools import reduce"
   ]
  },
  {
   "cell_type": "code",
   "execution_count": 287,
   "id": "bd0cdba8-c0c4-40ad-a8ad-c4a140f2a670",
   "metadata": {},
   "outputs": [],
   "source": [
    "def accuracy(truth_json, predicted_path):\n",
    "    \n",
    "    predicted = pd.read_csv(predicted_path)\n",
    "    correct = 0\n",
    "    truth_dict = collections.Counter()\n",
    "    \n",
    "    with open(truth_json, 'r') as json_file:\n",
    "        json_list = list(json_file)\n",
    "\n",
    "    for i, json_str in enumerate(json_list):\n",
    "        result = json.loads(json_str)\n",
    "        truth_dict[result['label']] += 1\n",
    "        if result['label'] == predicted['label'][i]:\n",
    "            correct += 1\n",
    "    print(correct, len(json_list))\n",
    "    print(truth_dict.items())\n",
    "\n",
    "    return\n"
   ]
  },
  {
   "cell_type": "code",
   "execution_count": null,
   "id": "dfbee94a-a7b8-429c-b841-89897500d3b0",
   "metadata": {},
   "outputs": [],
   "source": []
  },
  {
   "cell_type": "code",
   "execution_count": 288,
   "id": "62b8abdf-83c2-492f-829e-71cfe209e4f5",
   "metadata": {},
   "outputs": [],
   "source": [
    "def json_to_csv(truth_json):\n",
    "    dict = collections.defaultdict(list)\n",
    "    with open(truth_json, 'r') as json_file:\n",
    "        json_list = list(json_file)\n",
    "    for i, json_str in enumerate(json_list):\n",
    "        result = json.loads(json_str)\n",
    "        dict['label'].append(result['label'])\n",
    "        dict['id'].append(result['id'])\n",
    "        dict['text'].append(result['text'])\n",
    "    df = pd.DataFrame(data=dict)\n",
    "    return df\n",
    "\n",
    "def log_to_proba(file, res_file):\n",
    "    df = pd.read_csv(file)\n",
    "    df['proba'] = df['proba'].apply(lambda x: np.exp(x))\n",
    "    \n",
    "    df.to_csv(res_file, index=False)\n",
    "    return df\n",
    "        \n",
    "        \n",
    "    "
   ]
  },
  {
   "cell_type": "code",
   "execution_count": 311,
   "id": "3a294e81-3c18-4f5b-8916-df07b519a9b6",
   "metadata": {},
   "outputs": [
    {
     "data": {
      "text/html": [
       "<div>\n",
       "<style scoped>\n",
       "    .dataframe tbody tr th:only-of-type {\n",
       "        vertical-align: middle;\n",
       "    }\n",
       "\n",
       "    .dataframe tbody tr th {\n",
       "        vertical-align: top;\n",
       "    }\n",
       "\n",
       "    .dataframe thead th {\n",
       "        text-align: right;\n",
       "    }\n",
       "</style>\n",
       "<table border=\"1\" class=\"dataframe\">\n",
       "  <thead>\n",
       "    <tr style=\"text-align: right;\">\n",
       "      <th></th>\n",
       "      <th>id</th>\n",
       "      <th>proba</th>\n",
       "      <th>label</th>\n",
       "    </tr>\n",
       "  </thead>\n",
       "  <tbody>\n",
       "    <tr>\n",
       "      <th>0</th>\n",
       "      <td>42953</td>\n",
       "      <td>0.013462</td>\n",
       "      <td>0</td>\n",
       "    </tr>\n",
       "    <tr>\n",
       "      <th>1</th>\n",
       "      <td>23058</td>\n",
       "      <td>0.000307</td>\n",
       "      <td>0</td>\n",
       "    </tr>\n",
       "    <tr>\n",
       "      <th>2</th>\n",
       "      <td>13894</td>\n",
       "      <td>0.000350</td>\n",
       "      <td>0</td>\n",
       "    </tr>\n",
       "    <tr>\n",
       "      <th>3</th>\n",
       "      <td>37408</td>\n",
       "      <td>0.001043</td>\n",
       "      <td>0</td>\n",
       "    </tr>\n",
       "    <tr>\n",
       "      <th>4</th>\n",
       "      <td>82403</td>\n",
       "      <td>0.483420</td>\n",
       "      <td>0</td>\n",
       "    </tr>\n",
       "    <tr>\n",
       "      <th>...</th>\n",
       "      <td>...</td>\n",
       "      <td>...</td>\n",
       "      <td>...</td>\n",
       "    </tr>\n",
       "    <tr>\n",
       "      <th>995</th>\n",
       "      <td>54692</td>\n",
       "      <td>0.002246</td>\n",
       "      <td>0</td>\n",
       "    </tr>\n",
       "    <tr>\n",
       "      <th>996</th>\n",
       "      <td>1642</td>\n",
       "      <td>0.938795</td>\n",
       "      <td>1</td>\n",
       "    </tr>\n",
       "    <tr>\n",
       "      <th>997</th>\n",
       "      <td>46150</td>\n",
       "      <td>0.011260</td>\n",
       "      <td>0</td>\n",
       "    </tr>\n",
       "    <tr>\n",
       "      <th>998</th>\n",
       "      <td>19438</td>\n",
       "      <td>0.001328</td>\n",
       "      <td>0</td>\n",
       "    </tr>\n",
       "    <tr>\n",
       "      <th>999</th>\n",
       "      <td>45730</td>\n",
       "      <td>0.968158</td>\n",
       "      <td>1</td>\n",
       "    </tr>\n",
       "  </tbody>\n",
       "</table>\n",
       "<p>1000 rows × 3 columns</p>\n",
       "</div>"
      ],
      "text/plain": [
       "        id     proba  label\n",
       "0    42953  0.013462      0\n",
       "1    23058  0.000307      0\n",
       "2    13894  0.000350      0\n",
       "3    37408  0.001043      0\n",
       "4    82403  0.483420      0\n",
       "..     ...       ...    ...\n",
       "995  54692  0.002246      0\n",
       "996   1642  0.938795      1\n",
       "997  46150  0.011260      0\n",
       "998  19438  0.001328      0\n",
       "999  45730  0.968158      1\n",
       "\n",
       "[1000 rows x 3 columns]"
      ]
     },
     "execution_count": 311,
     "metadata": {},
     "output_type": "execute_result"
    }
   ],
   "source": [
    "log_to_proba(\"./uniter-oscar/vilio/Ensemble_files/U36_test_seen.csv\", \"./uniter-oscar/vilio/Ensemble_files/U36_test_seen_converted.csv\")\n",
    "log_to_proba(\"./uniter-oscar/vilio/data/O36/O36_test_unseen_SA.csv\", \"./uniter-oscar/vilio/Ensemble_files/O36_test_unseen_converted.csv\")"
   ]
  },
  {
   "cell_type": "code",
   "execution_count": 61,
   "id": "c7318bb1-0a8a-41ae-aec8-c43a3ce15a37",
   "metadata": {},
   "outputs": [],
   "source": [
    "test_ground_truth = json_to_csv('./vilio/data/test_unseen.jsonl')\n",
    "test_ground_truth.to_csv('./vilio/Ensemble_files/test.csv')"
   ]
  },
  {
   "cell_type": "code",
   "execution_count": 210,
   "id": "a8823014-0958-4746-a525-cedf9b3e91a7",
   "metadata": {},
   "outputs": [
    {
     "ename": "FileNotFoundError",
     "evalue": "[Errno 2] No such file or directory: '/home/jupyter/.cache/torch/mmf/data/datasets/hateful_memes/defaults/annotations/test.jsonl'",
     "output_type": "error",
     "traceback": [
      "\u001b[0;31m---------------------------------------------------------------------------\u001b[0m",
      "\u001b[0;31mFileNotFoundError\u001b[0m                         Traceback (most recent call last)",
      "\u001b[0;32m/tmp/ipykernel_4589/2694025579.py\u001b[0m in \u001b[0;36m<module>\u001b[0;34m\u001b[0m\n\u001b[0;32m----> 1\u001b[0;31m \u001b[0maccuracy\u001b[0m\u001b[0;34m(\u001b[0m\u001b[0;34m\"/home/jupyter/.cache/torch/mmf/data/datasets/hateful_memes/defaults/annotations/test.jsonl\"\u001b[0m\u001b[0;34m,\u001b[0m \u001b[0;34m\"./vilbert/output/test.csv\"\u001b[0m\u001b[0;34m)\u001b[0m\u001b[0;34m\u001b[0m\u001b[0;34m\u001b[0m\u001b[0m\n\u001b[0m",
      "\u001b[0;32m/tmp/ipykernel_4589/761950188.py\u001b[0m in \u001b[0;36maccuracy\u001b[0;34m(truth_json, predicted_path)\u001b[0m\n\u001b[1;32m      5\u001b[0m     \u001b[0mtruth_dict\u001b[0m \u001b[0;34m=\u001b[0m \u001b[0mcollections\u001b[0m\u001b[0;34m.\u001b[0m\u001b[0mCounter\u001b[0m\u001b[0;34m(\u001b[0m\u001b[0;34m)\u001b[0m\u001b[0;34m\u001b[0m\u001b[0;34m\u001b[0m\u001b[0m\n\u001b[1;32m      6\u001b[0m \u001b[0;34m\u001b[0m\u001b[0m\n\u001b[0;32m----> 7\u001b[0;31m     \u001b[0;32mwith\u001b[0m \u001b[0mopen\u001b[0m\u001b[0;34m(\u001b[0m\u001b[0mtruth_json\u001b[0m\u001b[0;34m,\u001b[0m \u001b[0;34m'r'\u001b[0m\u001b[0;34m)\u001b[0m \u001b[0;32mas\u001b[0m \u001b[0mjson_file\u001b[0m\u001b[0;34m:\u001b[0m\u001b[0;34m\u001b[0m\u001b[0;34m\u001b[0m\u001b[0m\n\u001b[0m\u001b[1;32m      8\u001b[0m         \u001b[0mjson_list\u001b[0m \u001b[0;34m=\u001b[0m \u001b[0mlist\u001b[0m\u001b[0;34m(\u001b[0m\u001b[0mjson_file\u001b[0m\u001b[0;34m)\u001b[0m\u001b[0;34m\u001b[0m\u001b[0;34m\u001b[0m\u001b[0m\n\u001b[1;32m      9\u001b[0m \u001b[0;34m\u001b[0m\u001b[0m\n",
      "\u001b[0;31mFileNotFoundError\u001b[0m: [Errno 2] No such file or directory: '/home/jupyter/.cache/torch/mmf/data/datasets/hateful_memes/defaults/annotations/test.jsonl'"
     ]
    }
   ],
   "source": [
    "accuracy(\"/home/jupyter/.cache/torch/mmf/data/datasets/hateful_memes/defaults/annotations/test.jsonl\", \"./vilbert/output/test.csv\")"
   ]
  },
  {
   "cell_type": "code",
   "execution_count": 522,
   "id": "48f41c67-495b-493d-9979-81643f5d7267",
   "metadata": {},
   "outputs": [],
   "source": [
    "class Ensemble:\n",
    "    def __init__(self, ground_truth, \n",
    "                 uniter, oscar, visual_bert, vilbert, \n",
    "                 ground_truth_train, uniter_train, visual_bert_train, vilbert_train,\n",
    "                ground_truth_val, uniter_val, oscar_val, visual_bert_val, vilbert_val):\n",
    "        self.ground_truth = self.jsonl_to_df(ground_truth)\n",
    "        self.uniter = pd.read_csv(uniter)\n",
    "        self.oscar = pd.read_csv(oscar)\n",
    "        self.visual_bert = self.mmf_read_csv(visual_bert)\n",
    "        self.vilbert = self.mmf_read_csv(vilbert)\n",
    "        \n",
    "        self.ground_truth_train = self.jsonl_to_df(ground_truth_train)\n",
    "        self.uniter_train = self.log_to_proba(uniter_train)\n",
    "        self.visual_bert_train = self.mmf_read_csv(visual_bert_train)\n",
    "        self.vilbert_train = self.mmf_read_csv(vilbert_train)\n",
    "        \n",
    "        self.ground_truth_val = self.jsonl_to_df(ground_truth_val)\n",
    "        self.uniter_val = self.log_to_proba(uniter_val)\n",
    "        self.oscar_val = self.log_to_proba(oscar_val)\n",
    "        self.visual_bert_val = self.mmf_read_csv(visual_bert_val)\n",
    "        self.vilbert_val = self.mmf_read_csv(vilbert_val)\n",
    "        \n",
    "        self.combined = self.combine()\n",
    "        self.combined_val = self.combine_val()\n",
    "        self.create_dev()\n",
    "        \n",
    "    def create_dev(self):\n",
    "        \n",
    "        combined_dev = pd.merge(self.combined_val, self.ground_truth_val, on='id', left_index=False, right_index=False)\n",
    "        combined_dev = combined_dev.sort_values(by=['label'])[:-125].sort_index()\n",
    "        self.combined_dev = combined_dev[['id','proba_u','label_u','proba_x','label_x','proba_y','label_y','proba_z','label_z']]\n",
    "        self.ground_truth_dev = combined_dev.drop(columns=['id','proba_u','label_u','proba_x','label_x','proba_y','label_y','proba_z','label_z'])\n",
    "        \n",
    "        \n",
    "        \n",
    "    def jsonl_to_df(self, jsonl_path):\n",
    "        dict = collections.defaultdict(list)\n",
    "        with open(jsonl_path, 'r') as json_file:\n",
    "            json_list = list(json_file)\n",
    "        for i, json_str in enumerate(json_list):\n",
    "            result = json.loads(json_str)\n",
    "            dict['label'].append(result['label'])\n",
    "            dict['id'].append(result['id'])\n",
    "            dict['text'].append(result['text'])\n",
    "        df = pd.DataFrame(data=dict)\n",
    "        return df\n",
    "        \n",
    "    def log_to_proba(self, file):\n",
    "        df = pd.read_csv(file)\n",
    "        df['proba'] = df['proba'].apply(lambda x: np.exp(x))\n",
    "        return df\n",
    "        \n",
    "    def mmf_read_csv(self, path):\n",
    "        \n",
    "        df = pd.read_csv(path)\n",
    "        df['proba'] = df['scores'].apply(lambda x: float(x[1:-1].split(\", \")[1]))\n",
    "        df = df.drop(columns=['scores'])\n",
    "        df['label'] = df['proba'].apply(lambda x: 1 if x >= 0.5 else 0)\n",
    "        return df\n",
    "        \n",
    "    \n",
    "    def compare(self, predict, array=False, ground_truth_df = None):\n",
    "        \n",
    "        if type(ground_truth_df) == type(None):\n",
    "            ground_truth_df = self.ground_truth\n",
    "        \n",
    "        correct = 0\n",
    "        for i in predict.index:\n",
    "            if predict['result'][i] == ground_truth_df['label'][i]:\n",
    "                correct += 1\n",
    "            \n",
    "        #print(correct, '/', all, \"Accuracy:\", correct/all)\n",
    "        return correct/len(predict)\n",
    "    \n",
    "    def compare_dev(self, predict, array=False):\n",
    "        correct = 0\n",
    "        all = len(predict)\n",
    "        for i in range(all):\n",
    "            if predict['result'][i] == self.ground_truth_dev['label'][i]:\n",
    "                correct += 1\n",
    "        #print(correct, '/', all, \"Accuracy:\", correct/all)\n",
    "        return correct/all\n",
    "    \n",
    "    def combine(self):\n",
    "        combine_a = pd.merge(self.uniter, self.oscar, on='id', suffixes=('_u', '_x'), left_index=False, right_index=False)\n",
    "        combine_b = pd.merge(self.visual_bert, self.vilbert, on='id', suffixes=('_y', '_z'), left_index=False, right_index=False)\n",
    "        combined = pd.merge(combine_a, combine_b, how='left', on='id')\n",
    "        return combined\n",
    "    \n",
    "    def combine_val(self):\n",
    "        combine_a = pd.merge(self.uniter_val, self.oscar_val, on='id', suffixes=('_u', '_x'), left_index=False, right_index=False)\n",
    "        combine_b = pd.merge(self.visual_bert_val, self.vilbert_val, on='id', suffixes=('_y', '_z'), left_index=False, right_index=False)\n",
    "        combined = pd.merge(combine_a, combine_b, how='left', on='id')\n",
    "        return combined\n",
    "        \n",
    "    \n",
    "    def simple_average(self, df, ground_truth_df=None):\n",
    "        \n",
    "        if type(ground_truth_df) == type(None):\n",
    "            ground_truth_df = self.ground_truth\n",
    "        \n",
    "        cols = ['proba_u','proba_x','proba_y','proba_z']\n",
    "        \n",
    "        combined = df\n",
    "        \n",
    "        combined['avg'] = combined[cols].mean(axis=1)\n",
    "        combined['result'] = combined['avg'].apply(lambda x: 1 if x >= 0.5 else 0)\n",
    "        acc = self.compare(combined, ground_truth_df=ground_truth_df)\n",
    "        print(\"Simple Average Accuracy:\", acc)\n",
    "        roc_auc = roc_auc_score(self.ground_truth['label'], combined['avg'])\n",
    "        print('roc_auc:',round(roc_auc,4))\n",
    "        \n",
    "        return combined\n",
    "        \n",
    "    \n",
    "    def single_model_acc(self):\n",
    "        self.uniter['result'] = self.uniter['proba'].apply(lambda x: 1 if x >= 0.5 else 0)\n",
    "        acc = self.compare(self.uniter)\n",
    "        print(\"Uniter Accuracy :\", acc)\n",
    "        \n",
    "        self.oscar['result'] = self.oscar['proba'].apply(lambda x: 1 if x >= 0.5 else 0)\n",
    "        acc = self.compare(self.oscar)\n",
    "        print(\"Oscar Accuracy :\", acc)\n",
    "        \n",
    "        self.visual_bert['result'] = self.visual_bert['proba'].apply(lambda x: 1 if x >= 0.5 else 0)\n",
    "        acc = self.compare(self.visual_bert)\n",
    "        print(\"Visual BERT Accuracy :\", acc)\n",
    "        \n",
    "        self.vilbert['result'] = self.vilbert['proba'].apply(lambda x: 1 if x >= 0.5 else 0)\n",
    "        acc = self.compare(self.vilbert)\n",
    "        print(\"VilBERT Accuracy :\", acc)\n",
    "        \n",
    "        \n",
    "    \n",
    "    def weighted_average(self):\n",
    "        combined = self.combined_dev\n",
    "        max_acc = 0\n",
    "        best_config = [0, 0, 0, 0]\n",
    "        \n",
    "        for i in range(0, 10):\n",
    "            for j in range(0, 10):\n",
    "                for k in range(0, 10):\n",
    "                    for l in range(0, 10):\n",
    "                        if i+j+k+l != 0:\n",
    "                            combined['avg'] = (combined['proba_u']*i + combined['proba_x']*j + combined['proba_y']*k + combined['proba_z']*l)/(i+j+k+l)\n",
    "                            combined['result'] = combined['avg'].apply(lambda x: 1 if x >= 0.5 else 0)\n",
    "                            acc = self.compare(combined)\n",
    "                            if acc > max_acc:\n",
    "                                max_acc = acc\n",
    "                                best_config = [i, j, k, l]\n",
    "                                print(max_acc, best_config)\n",
    "        combined_test = self.combined\n",
    "        combined_test['avg'] = (combined_test['proba_u']*best_config[0] + combined_test['proba_x']*best_config[1] + combined_test['proba_y']*best_config[2] + combined_test['proba_z']*best_config[3])/sum(best_config)\n",
    "        combined_test['result'] = combined_test['avg'].apply(lambda x: 1 if x >= 0.5 else 0)\n",
    "        roc_auc = roc_auc_score(self.ground_truth['label'], combined_test['avg'])\n",
    "        print('roc_auc:',round(roc_auc,4))\n",
    "        acc = self.compare(combined_test)\n",
    "        print(\"Performance on testset\", acc)\n",
    "        \n",
    "        return max_acc, best_config\n",
    "        \n",
    "    \n",
    "    def random_forest_train(self, n_estimators, min_samples_leaf, max_depth):\n",
    "        \n",
    "        combine_a = pd.merge(self.uniter_train, self.visual_bert_train, on='id', suffixes=('_u', '_y'), left_index=False, right_index=False)\n",
    "        combined = pd.merge(combine_a, self.vilbert_train, on='id', left_index=False, right_index=False)\n",
    "        self.X_train = combined[['proba_u','proba_y','proba']].replace(np.nan, 0)\n",
    "        self.y_train = self.ground_truth_train['label']\n",
    "        \n",
    "\n",
    "        rf = RandomForestClassifier(n_estimators=n_estimators, min_samples_leaf=min_samples_leaf, max_depth=max_depth)\n",
    "        rf.fit(self.X_train.to_numpy(), self.y_train.to_numpy())\n",
    "        joblib.dump(rf, \"./random_forest.joblib\")\n",
    "        #print(\"completed\")\n",
    "    \n",
    "    def random_forest_predict(self, model):\n",
    "        \n",
    "        self.X_test = self.combined[['proba_u','proba_y','proba_z']].replace(np.nan, 0)\n",
    "        self.y_test = self.ground_truth['label'].replace(np.nan, 0)\n",
    "        \n",
    "        loaded_rf = joblib.load(model)\n",
    "        result = loaded_rf.predict(self.X_test.to_numpy())\n",
    "        result = np.where(result<0.5, 0, 1)\n",
    "        acc = np.mean(np.equal(result, self.y_test.to_numpy()))\n",
    "        #print(\"Accuracy:\", acc)\n",
    "        roc_auc = roc_auc_score(self.ground_truth['label'], loaded_rf.predict_proba(self.X_test.to_numpy())[:,1])\n",
    "        print('roc_auc:',round(roc_auc,4))\n",
    "        return acc\n",
    "    \n",
    "    def random_forest_predict_val(self, model):\n",
    "        self.X_val = self.combined_val[['proba_u','proba_y','proba_z']].replace(np.nan, 0)\n",
    "        self.y_val = self.ground_truth_val['label'].replace(np.nan, 0)\n",
    "        \n",
    "        loaded_rf = joblib.load(model)\n",
    "        result = loaded_rf.predict(self.X_val.to_numpy())\n",
    "        result = np.where(result<0.5, 0, 1)\n",
    "        acc = np.mean(np.equal(result, self.y_val.to_numpy()))\n",
    "        \n",
    "        #print(\"Accuracy:\", acc)\n",
    "        return acc\n",
    "    \n",
    "    \n",
    "\n",
    "    def random_forest_predict_dev(self, model):\n",
    "        self.X_dev = self.combined_dev[['proba_u','proba_y','proba_z']].replace(np.nan, 0)\n",
    "        self.y_dev = self.ground_truth_dev['label'].replace(np.nan, 0)\n",
    "        \n",
    "        loaded_rf = joblib.load(model)\n",
    "        result = loaded_rf.predict(self.X_dev.to_numpy())\n",
    "        result = np.where(result<0.5, 0, 1)\n",
    "        acc = np.mean(np.equal(result, self.y_dev.to_numpy()))\n",
    "        #print(\"Accuracy:\", acc)\n",
    "        return acc\n",
    "\n",
    "    \n",
    "    def rf_search(self):\n",
    "        \n",
    "        max_acc = 0\n",
    "        best_config = [0, 0, 0]\n",
    "        \n",
    "        for n_estimators in range(2, 22, 2):\n",
    "            for min_samples_leaf in range(1, 11):\n",
    "                for max_depth in range(1, 10):\n",
    "                    self.random_forest_train(n_estimators, min_samples_leaf, max_depth)\n",
    "                    acc = self.random_forest_predict_dev(\"./random_forest.joblib\")\n",
    "                    if acc > max_acc:\n",
    "                        print(\"update acc ->\", acc)\n",
    "                        \n",
    "                        max_acc = acc\n",
    "                        best_config = [n_estimators, min_samples_leaf, max_depth]\n",
    "                        print(best_config)\n",
    "        \n",
    "        return max_acc, best_config\n",
    "                    \n",
    "        \n",
    "        # combined = self.simple_average()\n",
    "        # X = combined['avg'].to_numpy()\n",
    "        # X = X.reshape(-1, 1)\n",
    "        # result = loaded_rf.predict(X)\n",
    "        \n",
    "        # correct = 0\n",
    "        # all = len(result)\n",
    "        # for i in range(all):\n",
    "        #     if result[i] == self.ground_truth['label'][i]:\n",
    "        #         correct += 1\n",
    "        # print(correct, '/', all, \"Accuracy:\", correct/all)\n",
    "        \n",
    "        \n",
    "        "
   ]
  },
  {
   "cell_type": "code",
   "execution_count": 523,
   "id": "cdf9f4b9-922e-40da-9c46-195762cc00f2",
   "metadata": {},
   "outputs": [],
   "source": [
    "ensemble = Ensemble(\"./test.jsonl\",\n",
    "                    \"./uniter-oscar/vilio/Ensemble_files/U36_test_seen_converted.csv\",\n",
    "                    \"./uniter-oscar/vilio/Ensemble_files/O36_test_unseen_converted.csv\", \n",
    "                    \"./vilbert/output/test.csv\",\n",
    "                    \"./visual_bert/output/test.csv\",\n",
    "                    \"./train.jsonl\",\n",
    "                    \"./uniter-oscar/vilio/Ensemble_files/U36_train.csv\",\n",
    "                    \"./vilbert/output/train.csv\",\n",
    "                    \"./visual_bert/output/train.csv\",\n",
    "                    \"./dev.jsonl\",\n",
    "                    \"./uniter-oscar/vilio/Ensemble_files/U36_dev_seen.csv\",\n",
    "                    \"./uniter-oscar/vilio/Ensemble_files/O36_dev_seen_SA.csv\",\n",
    "                    \"./vilbert/output/dev.csv\",\n",
    "                    \"./visual_bert/output/dev.csv\"\n",
    "                   )\n"
   ]
  },
  {
   "cell_type": "code",
   "execution_count": 530,
   "id": "e2db9785-c06b-49b4-b616-960c59f3daf0",
   "metadata": {},
   "outputs": [
    {
     "data": {
      "text/plain": [
       "id         23058.000000\n",
       "proba_u        0.000081\n",
       "label_u        0.000000\n",
       "proba_x        0.000307\n",
       "label_x        0.000000\n",
       "proba_y        0.000394\n",
       "label_y        0.000000\n",
       "proba_z        0.002611\n",
       "label_z        0.000000\n",
       "avg            0.000848\n",
       "result         0.000000\n",
       "Name: 1, dtype: float64"
      ]
     },
     "execution_count": 530,
     "metadata": {},
     "output_type": "execute_result"
    }
   ],
   "source": [
    "ensemble.combined.iloc[1]"
   ]
  },
  {
   "cell_type": "code",
   "execution_count": 546,
   "id": "7092dca2-1136-4a2d-97e4-912cacd7aa7c",
   "metadata": {},
   "outputs": [
    {
     "name": "stdout",
     "output_type": "stream",
     "text": [
      "vote acc 0.819\n",
      "vote roc_auc 0.8434202342141386\n"
     ]
    }
   ],
   "source": [
    "predict = list()\n",
    "prob = list()\n",
    "for i in range(len(ensemble.combined)):\n",
    "    vote = 0\n",
    "    for j in 'uxyz':\n",
    "        vote += ensemble.combined.iloc[i][f'label_{j}']\n",
    "    if vote > 2:\n",
    "        predict.append(1)\n",
    "    else:\n",
    "        predict.append(0)\n",
    "    prob.append(vote/4)\n",
    "\n",
    "print('vote acc', np.mean(np.array(predict) == ensemble.ground_truth['label']))\n",
    "print('vote roc_auc', roc_auc_score(ensemble.ground_truth['label'], np.array(prob)))"
   ]
  },
  {
   "cell_type": "code",
   "execution_count": 542,
   "id": "1719e140-f24d-4a0b-8150-fbed4ba3d953",
   "metadata": {},
   "outputs": [
    {
     "data": {
      "text/plain": [
       "0.78"
      ]
     },
     "execution_count": 542,
     "metadata": {},
     "output_type": "execute_result"
    }
   ],
   "source": []
  },
  {
   "cell_type": "code",
   "execution_count": 509,
   "id": "8e172819-bd97-4412-a1ad-b43ddf3d7c7f",
   "metadata": {},
   "outputs": [],
   "source": [
    "from sklearn.metrics import roc_auc_score"
   ]
  },
  {
   "cell_type": "code",
   "execution_count": 510,
   "id": "7212407f-3ee7-4f62-b072-0617d8839577",
   "metadata": {},
   "outputs": [],
   "source": [
    "def show_roc_acc(df_combined, df_ground_truth, dataset):\n",
    "    print(dataset,':')\n",
    "    name2suffix = {\"Uniter\":\"u\", \"Oscar\":\"x\", \"Visual BERT\":\"y\", \"VilBERT\":\"z\"}\n",
    "\n",
    "    for model, suffix in name2suffix.items():\n",
    "        print(model)\n",
    "        print('acc', round((df_combined[f'label_{suffix}'] == df_ground_truth['label']).value_counts()[1]/len(df_combined),4))\n",
    "        print('roc_auc', round(roc_auc_score(df_ground_truth['label'], df_combined[f'label_{suffix}']),4))\n",
    "        print()"
   ]
  },
  {
   "cell_type": "code",
   "execution_count": 511,
   "id": "c67e4b2b-6682-4249-87e2-39ec4bc94728",
   "metadata": {},
   "outputs": [
    {
     "name": "stdout",
     "output_type": "stream",
     "text": [
      "dev set :\n",
      "Uniter\n",
      "acc 0.7333\n",
      "roc_auc 0.688\n",
      "\n",
      "Oscar\n",
      "acc 0.7093\n",
      "roc_auc 0.638\n",
      "\n",
      "Visual BERT\n",
      "acc 0.72\n",
      "roc_auc 0.626\n",
      "\n",
      "VilBERT\n",
      "acc 0.6827\n",
      "roc_auc 0.622\n",
      "\n"
     ]
    }
   ],
   "source": [
    "show_roc_acc(ensemble.combined_dev, ensemble.ground_truth_dev, 'dev set')"
   ]
  },
  {
   "cell_type": "markdown",
   "id": "d659aabc-d94f-4351-8c5e-f9d93235028d",
   "metadata": {},
   "source": [
    "| Model      | acc | roc_auc     |\n",
    "| :---        |    :----:   |          ---: |\n",
    "| Uniter      | 0.7333       | 0.688   |\n",
    "| Oscar   | 0.7093        |  0.638      |\n",
    "| Visual BERT   | 0.72        | 0.626      |\n",
    "| VilBERT   | 0.6827        | 0.622      |"
   ]
  },
  {
   "cell_type": "code",
   "execution_count": 512,
   "id": "d86562be-64bf-448d-a224-db4c4d45a9ca",
   "metadata": {},
   "outputs": [
    {
     "name": "stdout",
     "output_type": "stream",
     "text": [
      "val set :\n",
      "Uniter\n",
      "acc 0.682\n",
      "roc_auc 0.682\n",
      "\n",
      "Oscar\n",
      "acc 0.64\n",
      "roc_auc 0.64\n",
      "\n",
      "Visual BERT\n",
      "acc 0.624\n",
      "roc_auc 0.624\n",
      "\n",
      "VilBERT\n",
      "acc 0.632\n",
      "roc_auc 0.632\n",
      "\n"
     ]
    }
   ],
   "source": [
    "show_roc_acc(ensemble.combined_val, ensemble.ground_truth_val, 'val set')"
   ]
  },
  {
   "cell_type": "markdown",
   "id": "7d0075b8-b672-4397-ae89-50072e1dcfb3",
   "metadata": {},
   "source": [
    "| Model      | acc | roc_auc     |\n",
    "| :---        |    :----:   |          ---: |\n",
    "| Uniter      | 0.682       | 0.682   |\n",
    "| Oscar   | 0.64        | 0.64      |\n",
    "| Visual BERT   | 0.624        | 0.624      |\n",
    "| VilBERT   | 0.632        | 0.632      |"
   ]
  },
  {
   "cell_type": "code",
   "execution_count": 433,
   "id": "b865389c-f618-407c-bea5-f6859d7c143b",
   "metadata": {},
   "outputs": [
    {
     "name": "stdout",
     "output_type": "stream",
     "text": [
      "test set :\n",
      "Uniter\n",
      "acc 0.787\n",
      "roc_auc 0.7895\n",
      "\n",
      "Oscar\n",
      "acc 0.81\n",
      "roc_auc 0.8075\n",
      "\n",
      "Visual BERT\n",
      "acc 0.749\n",
      "roc_auc 0.698\n",
      "\n",
      "VilBERT\n",
      "acc 0.751\n",
      "roc_auc 0.7304\n",
      "\n"
     ]
    }
   ],
   "source": [
    "show_roc_acc(ensemble.combined, ensemble.ground_truth, 'test set')"
   ]
  },
  {
   "cell_type": "markdown",
   "id": "a79fb96d-467e-43c5-afec-12805e277c59",
   "metadata": {},
   "source": [
    "| Model      | acc | roc_auc     |\n",
    "| :---        |    :----:   |          ---: |\n",
    "| Uniter      | 0.787       | 0.7895   |\n",
    "| Oscar   | 0.81        | 0.8075      |\n",
    "| Visual BERT   | 0.749        | 0.698     |\n",
    "| VilBERT   | 0.751       | 0.7304      |"
   ]
  },
  {
   "cell_type": "code",
   "execution_count": 434,
   "id": "deebf09a-19bd-4cff-9cf3-25b718209f6d",
   "metadata": {},
   "outputs": [
    {
     "data": {
      "text/plain": [
       "Int64Index([  0,   1,   2,   3,   4,   5,   6,   7,   8,   9,\n",
       "            ...\n",
       "            990, 991, 992, 993, 994, 995, 996, 997, 998, 999],\n",
       "           dtype='int64', length=1000)"
      ]
     },
     "execution_count": 434,
     "metadata": {},
     "output_type": "execute_result"
    }
   ],
   "source": [
    "ensemble.combined.index"
   ]
  },
  {
   "cell_type": "code",
   "execution_count": 524,
   "id": "69f18ba3-b6d7-4823-90c8-5c3a1b887325",
   "metadata": {},
   "outputs": [
    {
     "name": "stdout",
     "output_type": "stream",
     "text": [
      "Simple Average Accuracy: 0.799\n",
      "roc_auc: 0.8507\n"
     ]
    },
    {
     "data": {
      "text/html": [
       "<div>\n",
       "<style scoped>\n",
       "    .dataframe tbody tr th:only-of-type {\n",
       "        vertical-align: middle;\n",
       "    }\n",
       "\n",
       "    .dataframe tbody tr th {\n",
       "        vertical-align: top;\n",
       "    }\n",
       "\n",
       "    .dataframe thead th {\n",
       "        text-align: right;\n",
       "    }\n",
       "</style>\n",
       "<table border=\"1\" class=\"dataframe\">\n",
       "  <thead>\n",
       "    <tr style=\"text-align: right;\">\n",
       "      <th></th>\n",
       "      <th>id</th>\n",
       "      <th>proba_u</th>\n",
       "      <th>label_u</th>\n",
       "      <th>proba_x</th>\n",
       "      <th>label_x</th>\n",
       "      <th>proba_y</th>\n",
       "      <th>label_y</th>\n",
       "      <th>proba_z</th>\n",
       "      <th>label_z</th>\n",
       "      <th>avg</th>\n",
       "      <th>result</th>\n",
       "    </tr>\n",
       "  </thead>\n",
       "  <tbody>\n",
       "    <tr>\n",
       "      <th>0</th>\n",
       "      <td>42953</td>\n",
       "      <td>0.000645</td>\n",
       "      <td>0</td>\n",
       "      <td>0.013462</td>\n",
       "      <td>0</td>\n",
       "      <td>0.004799</td>\n",
       "      <td>0</td>\n",
       "      <td>0.003127</td>\n",
       "      <td>0</td>\n",
       "      <td>0.005508</td>\n",
       "      <td>0</td>\n",
       "    </tr>\n",
       "    <tr>\n",
       "      <th>1</th>\n",
       "      <td>23058</td>\n",
       "      <td>0.000081</td>\n",
       "      <td>0</td>\n",
       "      <td>0.000307</td>\n",
       "      <td>0</td>\n",
       "      <td>0.000394</td>\n",
       "      <td>0</td>\n",
       "      <td>0.002611</td>\n",
       "      <td>0</td>\n",
       "      <td>0.000848</td>\n",
       "      <td>0</td>\n",
       "    </tr>\n",
       "    <tr>\n",
       "      <th>2</th>\n",
       "      <td>13894</td>\n",
       "      <td>0.000071</td>\n",
       "      <td>0</td>\n",
       "      <td>0.000350</td>\n",
       "      <td>0</td>\n",
       "      <td>0.004470</td>\n",
       "      <td>0</td>\n",
       "      <td>0.002874</td>\n",
       "      <td>0</td>\n",
       "      <td>0.001941</td>\n",
       "      <td>0</td>\n",
       "    </tr>\n",
       "    <tr>\n",
       "      <th>3</th>\n",
       "      <td>37408</td>\n",
       "      <td>0.000358</td>\n",
       "      <td>0</td>\n",
       "      <td>0.001043</td>\n",
       "      <td>0</td>\n",
       "      <td>0.000793</td>\n",
       "      <td>0</td>\n",
       "      <td>0.003317</td>\n",
       "      <td>0</td>\n",
       "      <td>0.001378</td>\n",
       "      <td>0</td>\n",
       "    </tr>\n",
       "    <tr>\n",
       "      <th>4</th>\n",
       "      <td>82403</td>\n",
       "      <td>0.997296</td>\n",
       "      <td>1</td>\n",
       "      <td>0.483420</td>\n",
       "      <td>0</td>\n",
       "      <td>0.329488</td>\n",
       "      <td>0</td>\n",
       "      <td>0.772131</td>\n",
       "      <td>1</td>\n",
       "      <td>0.645584</td>\n",
       "      <td>1</td>\n",
       "    </tr>\n",
       "    <tr>\n",
       "      <th>...</th>\n",
       "      <td>...</td>\n",
       "      <td>...</td>\n",
       "      <td>...</td>\n",
       "      <td>...</td>\n",
       "      <td>...</td>\n",
       "      <td>...</td>\n",
       "      <td>...</td>\n",
       "      <td>...</td>\n",
       "      <td>...</td>\n",
       "      <td>...</td>\n",
       "      <td>...</td>\n",
       "    </tr>\n",
       "    <tr>\n",
       "      <th>995</th>\n",
       "      <td>54692</td>\n",
       "      <td>0.000125</td>\n",
       "      <td>0</td>\n",
       "      <td>0.002246</td>\n",
       "      <td>0</td>\n",
       "      <td>0.002451</td>\n",
       "      <td>0</td>\n",
       "      <td>0.002677</td>\n",
       "      <td>0</td>\n",
       "      <td>0.001875</td>\n",
       "      <td>0</td>\n",
       "    </tr>\n",
       "    <tr>\n",
       "      <th>996</th>\n",
       "      <td>1642</td>\n",
       "      <td>0.999831</td>\n",
       "      <td>1</td>\n",
       "      <td>0.938795</td>\n",
       "      <td>1</td>\n",
       "      <td>0.998494</td>\n",
       "      <td>1</td>\n",
       "      <td>0.995843</td>\n",
       "      <td>1</td>\n",
       "      <td>0.983241</td>\n",
       "      <td>1</td>\n",
       "    </tr>\n",
       "    <tr>\n",
       "      <th>997</th>\n",
       "      <td>46150</td>\n",
       "      <td>0.000690</td>\n",
       "      <td>0</td>\n",
       "      <td>0.011260</td>\n",
       "      <td>0</td>\n",
       "      <td>0.009915</td>\n",
       "      <td>0</td>\n",
       "      <td>0.005577</td>\n",
       "      <td>0</td>\n",
       "      <td>0.006860</td>\n",
       "      <td>0</td>\n",
       "    </tr>\n",
       "    <tr>\n",
       "      <th>998</th>\n",
       "      <td>19438</td>\n",
       "      <td>0.000066</td>\n",
       "      <td>0</td>\n",
       "      <td>0.001328</td>\n",
       "      <td>0</td>\n",
       "      <td>0.000794</td>\n",
       "      <td>0</td>\n",
       "      <td>0.002854</td>\n",
       "      <td>0</td>\n",
       "      <td>0.001260</td>\n",
       "      <td>0</td>\n",
       "    </tr>\n",
       "    <tr>\n",
       "      <th>999</th>\n",
       "      <td>45730</td>\n",
       "      <td>0.998923</td>\n",
       "      <td>1</td>\n",
       "      <td>0.968158</td>\n",
       "      <td>1</td>\n",
       "      <td>0.112513</td>\n",
       "      <td>0</td>\n",
       "      <td>0.004735</td>\n",
       "      <td>0</td>\n",
       "      <td>0.521082</td>\n",
       "      <td>1</td>\n",
       "    </tr>\n",
       "  </tbody>\n",
       "</table>\n",
       "<p>1000 rows × 11 columns</p>\n",
       "</div>"
      ],
      "text/plain": [
       "        id   proba_u  label_u   proba_x  label_x   proba_y  label_y   proba_z  \\\n",
       "0    42953  0.000645        0  0.013462        0  0.004799        0  0.003127   \n",
       "1    23058  0.000081        0  0.000307        0  0.000394        0  0.002611   \n",
       "2    13894  0.000071        0  0.000350        0  0.004470        0  0.002874   \n",
       "3    37408  0.000358        0  0.001043        0  0.000793        0  0.003317   \n",
       "4    82403  0.997296        1  0.483420        0  0.329488        0  0.772131   \n",
       "..     ...       ...      ...       ...      ...       ...      ...       ...   \n",
       "995  54692  0.000125        0  0.002246        0  0.002451        0  0.002677   \n",
       "996   1642  0.999831        1  0.938795        1  0.998494        1  0.995843   \n",
       "997  46150  0.000690        0  0.011260        0  0.009915        0  0.005577   \n",
       "998  19438  0.000066        0  0.001328        0  0.000794        0  0.002854   \n",
       "999  45730  0.998923        1  0.968158        1  0.112513        0  0.004735   \n",
       "\n",
       "     label_z       avg  result  \n",
       "0          0  0.005508       0  \n",
       "1          0  0.000848       0  \n",
       "2          0  0.001941       0  \n",
       "3          0  0.001378       0  \n",
       "4          1  0.645584       1  \n",
       "..       ...       ...     ...  \n",
       "995        0  0.001875       0  \n",
       "996        1  0.983241       1  \n",
       "997        0  0.006860       0  \n",
       "998        0  0.001260       0  \n",
       "999        0  0.521082       1  \n",
       "\n",
       "[1000 rows x 11 columns]"
      ]
     },
     "execution_count": 524,
     "metadata": {},
     "output_type": "execute_result"
    }
   ],
   "source": [
    "ensemble.simple_average(ensemble.combined)"
   ]
  },
  {
   "cell_type": "code",
   "execution_count": 436,
   "id": "3741e23d-b64e-47fd-baca-c76218fed9e2",
   "metadata": {},
   "outputs": [
    {
     "name": "stdout",
     "output_type": "stream",
     "text": [
      "Uniter Accuracy : 0.787\n",
      "Oscar Accuracy : 0.831\n",
      "Visual BERT Accuracy : 0.749\n",
      "VilBERT Accuracy : 0.751\n"
     ]
    }
   ],
   "source": [
    "ensemble.single_model_acc()"
   ]
  },
  {
   "cell_type": "code",
   "execution_count": 513,
   "id": "d36d7461-2272-4a6a-a85a-f02cde04f7d4",
   "metadata": {},
   "outputs": [],
   "source": [
    "ensemble.random_forest_train(14, 8, 1)"
   ]
  },
  {
   "cell_type": "code",
   "execution_count": 514,
   "id": "a4ad677d-d9b3-4639-adda-890d12975143",
   "metadata": {},
   "outputs": [
    {
     "name": "stdout",
     "output_type": "stream",
     "text": [
      "roc_auc: 0.8071\n"
     ]
    },
    {
     "data": {
      "text/plain": [
       "0.777"
      ]
     },
     "execution_count": 514,
     "metadata": {},
     "output_type": "execute_result"
    }
   ],
   "source": [
    "ensemble.random_forest_predict(\"./random_forest.joblib\",)"
   ]
  },
  {
   "cell_type": "code",
   "execution_count": 460,
   "id": "0557437e-2fa1-4a6c-9555-2c024fa20485",
   "metadata": {},
   "outputs": [
    {
     "name": "stdout",
     "output_type": "stream",
     "text": [
      "update acc -> 0.6906666666666667\n",
      "[2, 1, 1]\n",
      "update acc -> 0.7253333333333334\n",
      "[2, 1, 2]\n",
      "update acc -> 0.728\n",
      "[2, 2, 3]\n",
      "update acc -> 0.7306666666666667\n",
      "[2, 2, 5]\n",
      "update acc -> 0.7333333333333333\n",
      "[2, 3, 2]\n",
      "update acc -> 0.752\n",
      "[8, 1, 1]\n",
      "update acc -> 0.7546666666666667\n",
      "[18, 7, 1]\n"
     ]
    },
    {
     "data": {
      "text/plain": [
       "(0.7546666666666667, [18, 7, 1])"
      ]
     },
     "execution_count": 460,
     "metadata": {},
     "output_type": "execute_result"
    }
   ],
   "source": [
    "ensemble.rf_search()"
   ]
  },
  {
   "cell_type": "code",
   "execution_count": 516,
   "id": "b5a58622-7b99-4cb0-ae68-b17624e8ff35",
   "metadata": {},
   "outputs": [],
   "source": [
    "ensemble.random_forest_train(18, 7, 1)"
   ]
  },
  {
   "cell_type": "code",
   "execution_count": 518,
   "id": "54b274b5-d3b0-4b03-bd51-0e96bb2ad146",
   "metadata": {},
   "outputs": [
    {
     "name": "stdout",
     "output_type": "stream",
     "text": [
      "roc_auc: 0.8127\n"
     ]
    },
    {
     "data": {
      "text/plain": [
       "0.776"
      ]
     },
     "execution_count": 518,
     "metadata": {},
     "output_type": "execute_result"
    }
   ],
   "source": [
    "ensemble.random_forest_predict('random_forest.joblib')"
   ]
  },
  {
   "cell_type": "code",
   "execution_count": 371,
   "id": "f89cf02a-8e40-4999-b58f-27e9d0290863",
   "metadata": {},
   "outputs": [
    {
     "name": "stdout",
     "output_type": "stream",
     "text": [
      "Simple Average Accuracy: 0.799\n"
     ]
    },
    {
     "data": {
      "text/html": [
       "<div>\n",
       "<style scoped>\n",
       "    .dataframe tbody tr th:only-of-type {\n",
       "        vertical-align: middle;\n",
       "    }\n",
       "\n",
       "    .dataframe tbody tr th {\n",
       "        vertical-align: top;\n",
       "    }\n",
       "\n",
       "    .dataframe thead th {\n",
       "        text-align: right;\n",
       "    }\n",
       "</style>\n",
       "<table border=\"1\" class=\"dataframe\">\n",
       "  <thead>\n",
       "    <tr style=\"text-align: right;\">\n",
       "      <th></th>\n",
       "      <th>id</th>\n",
       "      <th>proba_u</th>\n",
       "      <th>label_u</th>\n",
       "      <th>proba_x</th>\n",
       "      <th>label_x</th>\n",
       "      <th>proba_y</th>\n",
       "      <th>label_y</th>\n",
       "      <th>proba_z</th>\n",
       "      <th>label_z</th>\n",
       "      <th>avg</th>\n",
       "      <th>result</th>\n",
       "    </tr>\n",
       "  </thead>\n",
       "  <tbody>\n",
       "    <tr>\n",
       "      <th>0</th>\n",
       "      <td>42953</td>\n",
       "      <td>0.000645</td>\n",
       "      <td>0</td>\n",
       "      <td>0.013462</td>\n",
       "      <td>0</td>\n",
       "      <td>0.004799</td>\n",
       "      <td>0</td>\n",
       "      <td>0.003127</td>\n",
       "      <td>0</td>\n",
       "      <td>0.005508</td>\n",
       "      <td>0</td>\n",
       "    </tr>\n",
       "    <tr>\n",
       "      <th>1</th>\n",
       "      <td>23058</td>\n",
       "      <td>0.000081</td>\n",
       "      <td>0</td>\n",
       "      <td>0.000307</td>\n",
       "      <td>0</td>\n",
       "      <td>0.000394</td>\n",
       "      <td>0</td>\n",
       "      <td>0.002611</td>\n",
       "      <td>0</td>\n",
       "      <td>0.000848</td>\n",
       "      <td>0</td>\n",
       "    </tr>\n",
       "    <tr>\n",
       "      <th>2</th>\n",
       "      <td>13894</td>\n",
       "      <td>0.000071</td>\n",
       "      <td>0</td>\n",
       "      <td>0.000350</td>\n",
       "      <td>0</td>\n",
       "      <td>0.004470</td>\n",
       "      <td>0</td>\n",
       "      <td>0.002874</td>\n",
       "      <td>0</td>\n",
       "      <td>0.001941</td>\n",
       "      <td>0</td>\n",
       "    </tr>\n",
       "    <tr>\n",
       "      <th>3</th>\n",
       "      <td>37408</td>\n",
       "      <td>0.000358</td>\n",
       "      <td>0</td>\n",
       "      <td>0.001043</td>\n",
       "      <td>0</td>\n",
       "      <td>0.000793</td>\n",
       "      <td>0</td>\n",
       "      <td>0.003317</td>\n",
       "      <td>0</td>\n",
       "      <td>0.001378</td>\n",
       "      <td>0</td>\n",
       "    </tr>\n",
       "    <tr>\n",
       "      <th>4</th>\n",
       "      <td>82403</td>\n",
       "      <td>0.997296</td>\n",
       "      <td>1</td>\n",
       "      <td>0.483420</td>\n",
       "      <td>0</td>\n",
       "      <td>0.329488</td>\n",
       "      <td>0</td>\n",
       "      <td>0.772131</td>\n",
       "      <td>1</td>\n",
       "      <td>0.645584</td>\n",
       "      <td>1</td>\n",
       "    </tr>\n",
       "    <tr>\n",
       "      <th>...</th>\n",
       "      <td>...</td>\n",
       "      <td>...</td>\n",
       "      <td>...</td>\n",
       "      <td>...</td>\n",
       "      <td>...</td>\n",
       "      <td>...</td>\n",
       "      <td>...</td>\n",
       "      <td>...</td>\n",
       "      <td>...</td>\n",
       "      <td>...</td>\n",
       "      <td>...</td>\n",
       "    </tr>\n",
       "    <tr>\n",
       "      <th>995</th>\n",
       "      <td>54692</td>\n",
       "      <td>0.000125</td>\n",
       "      <td>0</td>\n",
       "      <td>0.002246</td>\n",
       "      <td>0</td>\n",
       "      <td>0.002451</td>\n",
       "      <td>0</td>\n",
       "      <td>0.002677</td>\n",
       "      <td>0</td>\n",
       "      <td>0.001875</td>\n",
       "      <td>0</td>\n",
       "    </tr>\n",
       "    <tr>\n",
       "      <th>996</th>\n",
       "      <td>1642</td>\n",
       "      <td>0.999831</td>\n",
       "      <td>1</td>\n",
       "      <td>0.938795</td>\n",
       "      <td>1</td>\n",
       "      <td>0.998494</td>\n",
       "      <td>1</td>\n",
       "      <td>0.995843</td>\n",
       "      <td>1</td>\n",
       "      <td>0.983241</td>\n",
       "      <td>1</td>\n",
       "    </tr>\n",
       "    <tr>\n",
       "      <th>997</th>\n",
       "      <td>46150</td>\n",
       "      <td>0.000690</td>\n",
       "      <td>0</td>\n",
       "      <td>0.011260</td>\n",
       "      <td>0</td>\n",
       "      <td>0.009915</td>\n",
       "      <td>0</td>\n",
       "      <td>0.005577</td>\n",
       "      <td>0</td>\n",
       "      <td>0.006860</td>\n",
       "      <td>0</td>\n",
       "    </tr>\n",
       "    <tr>\n",
       "      <th>998</th>\n",
       "      <td>19438</td>\n",
       "      <td>0.000066</td>\n",
       "      <td>0</td>\n",
       "      <td>0.001328</td>\n",
       "      <td>0</td>\n",
       "      <td>0.000794</td>\n",
       "      <td>0</td>\n",
       "      <td>0.002854</td>\n",
       "      <td>0</td>\n",
       "      <td>0.001260</td>\n",
       "      <td>0</td>\n",
       "    </tr>\n",
       "    <tr>\n",
       "      <th>999</th>\n",
       "      <td>45730</td>\n",
       "      <td>0.998923</td>\n",
       "      <td>1</td>\n",
       "      <td>0.968158</td>\n",
       "      <td>1</td>\n",
       "      <td>0.112513</td>\n",
       "      <td>0</td>\n",
       "      <td>0.004735</td>\n",
       "      <td>0</td>\n",
       "      <td>0.521082</td>\n",
       "      <td>1</td>\n",
       "    </tr>\n",
       "  </tbody>\n",
       "</table>\n",
       "<p>1000 rows × 11 columns</p>\n",
       "</div>"
      ],
      "text/plain": [
       "        id   proba_u  label_u   proba_x  label_x   proba_y  label_y   proba_z  \\\n",
       "0    42953  0.000645        0  0.013462        0  0.004799        0  0.003127   \n",
       "1    23058  0.000081        0  0.000307        0  0.000394        0  0.002611   \n",
       "2    13894  0.000071        0  0.000350        0  0.004470        0  0.002874   \n",
       "3    37408  0.000358        0  0.001043        0  0.000793        0  0.003317   \n",
       "4    82403  0.997296        1  0.483420        0  0.329488        0  0.772131   \n",
       "..     ...       ...      ...       ...      ...       ...      ...       ...   \n",
       "995  54692  0.000125        0  0.002246        0  0.002451        0  0.002677   \n",
       "996   1642  0.999831        1  0.938795        1  0.998494        1  0.995843   \n",
       "997  46150  0.000690        0  0.011260        0  0.009915        0  0.005577   \n",
       "998  19438  0.000066        0  0.001328        0  0.000794        0  0.002854   \n",
       "999  45730  0.998923        1  0.968158        1  0.112513        0  0.004735   \n",
       "\n",
       "     label_z       avg  result  \n",
       "0          0  0.005508       0  \n",
       "1          0  0.000848       0  \n",
       "2          0  0.001941       0  \n",
       "3          0  0.001378       0  \n",
       "4          1  0.645584       1  \n",
       "..       ...       ...     ...  \n",
       "995        0  0.001875       0  \n",
       "996        1  0.983241       1  \n",
       "997        0  0.006860       0  \n",
       "998        0  0.001260       0  \n",
       "999        0  0.521082       1  \n",
       "\n",
       "[1000 rows x 11 columns]"
      ]
     },
     "execution_count": 371,
     "metadata": {},
     "output_type": "execute_result"
    }
   ],
   "source": [
    "ensemble.simple_average()"
   ]
  },
  {
   "cell_type": "code",
   "execution_count": 521,
   "id": "d5820404-3b04-4fdc-8822-98c1646533e3",
   "metadata": {},
   "outputs": [
    {
     "name": "stdout",
     "output_type": "stream",
     "text": [
      "0.608 [0, 0, 0, 1]\n",
      "0.6293333333333333 [0, 0, 1, 0]\n",
      "0.632 [0, 0, 6, 5]\n",
      "0.64 [0, 0, 8, 7]\n",
      "0.656 [0, 1, 0, 0]\n",
      "0.6613333333333333 [0, 2, 1, 1]\n",
      "0.664 [0, 5, 3, 1]\n",
      "roc_auc: 0.8574\n",
      "Performance on testset 0.825\n"
     ]
    },
    {
     "data": {
      "text/plain": [
       "(0.664, [0, 5, 3, 1])"
      ]
     },
     "execution_count": 521,
     "metadata": {},
     "output_type": "execute_result"
    }
   ],
   "source": [
    "ensemble.weighted_average()"
   ]
  },
  {
   "cell_type": "code",
   "execution_count": 29,
   "id": "295e260e-20ed-4a6a-b93a-06f48094b524",
   "metadata": {},
   "outputs": [],
   "source": [
    "\n",
    "def mmf_acc(df, dataset):\n",
    "    \n",
    "    dev_label = dict()\n",
    "\n",
    "    acc_count = 0\n",
    "    total_count = 0\n",
    "\n",
    "    with open(f'/home/jupyter/.cache/torch/mmf/data/datasets/hateful_memes/defaults/annotations/{dataset}.jsonl', 'r') as f:\n",
    "        for line in f:\n",
    "            total_count += 1\n",
    "\n",
    "            data = json.loads(line)\n",
    "            [imid, url, label, text] = data['id'], data['img'], data['label'], data['text']\n",
    "            dev_label[imid] = label\n",
    "\n",
    "            if df.loc[df['id'] == int(imid)]['label'].item() == int(label):\n",
    "                acc_count += 1\n",
    "\n",
    "    print(acc_count, total_count, acc_count/total_count)"
   ]
  },
  {
   "cell_type": "code",
   "execution_count": 30,
   "id": "61e852dc-638b-4c51-84a0-172f56a9b081",
   "metadata": {},
   "outputs": [
    {
     "name": "stdout",
     "output_type": "stream",
     "text": [
      "749 1000 0.749\n"
     ]
    }
   ],
   "source": [
    "mmf_acc(ensemble.visual_bert, 'test')"
   ]
  },
  {
   "cell_type": "code",
   "execution_count": 31,
   "id": "0c63c45c-f60a-4a87-91b9-e3413f403dce",
   "metadata": {},
   "outputs": [
    {
     "name": "stdout",
     "output_type": "stream",
     "text": [
      "751 1000 0.751\n"
     ]
    }
   ],
   "source": [
    "mmf_acc(ensemble.vilbert, 'test')"
   ]
  },
  {
   "cell_type": "code",
   "execution_count": null,
   "id": "520033a5-4394-40f0-b789-f5b62ff52b6d",
   "metadata": {},
   "outputs": [],
   "source": []
  },
  {
   "cell_type": "code",
   "execution_count": 250,
   "id": "adc05612-9ea6-49d3-bf6e-c27570e6d6fb",
   "metadata": {},
   "outputs": [
    {
     "data": {
      "text/plain": [
       "0    250\n",
       "1    200\n",
       "Name: label, dtype: int64"
      ]
     },
     "execution_count": 250,
     "metadata": {},
     "output_type": "execute_result"
    }
   ],
   "source": []
  },
  {
   "cell_type": "code",
   "execution_count": 230,
   "id": "93089c32-673b-4677-98bf-ba72a43d185b",
   "metadata": {},
   "outputs": [
    {
     "data": {
      "text/plain": [
       "0.6264"
      ]
     },
     "execution_count": 230,
     "metadata": {},
     "output_type": "execute_result"
    }
   ],
   "source": [
    "4698/7500"
   ]
  },
  {
   "cell_type": "code",
   "execution_count": 236,
   "id": "866fcb23-b282-4ca0-b913-86163767d2a0",
   "metadata": {},
   "outputs": [
    {
     "data": {
      "text/plain": [
       "0.752"
      ]
     },
     "execution_count": 236,
     "metadata": {},
     "output_type": "execute_result"
    }
   ],
   "source": [
    "0.752"
   ]
  },
  {
   "cell_type": "code",
   "execution_count": 266,
   "id": "6c2d607f-4592-45ab-9d04-f8a538403ddc",
   "metadata": {},
   "outputs": [
    {
     "data": {
      "text/plain": [
       "0.25"
      ]
     },
     "execution_count": 266,
     "metadata": {},
     "output_type": "execute_result"
    }
   ],
   "source": [
    "125/500"
   ]
  },
  {
   "cell_type": "markdown",
   "id": "b399f8cb-3085-47dc-bc49-1b5e474a7b04",
   "metadata": {},
   "source": [
    "| Ensemble      | acc | roc_auc     |\n",
    "| :---        |    :----:   |          ---: |\n",
    "| Vote      | 0.819       | 0.8434  |\n",
    "| Simple Average  |    0.799    |   0.8507   |\n",
    "| Weighted Average  |   0.825     | 0.8574  |\n",
    "| Random Forest - Oscar  |    0.776   | 0.8127      |"
   ]
  },
  {
   "cell_type": "markdown",
   "id": "cf7a8aa5-2455-4042-a896-bcd01de209fb",
   "metadata": {},
   "source": []
  }
 ],
 "metadata": {
  "environment": {
   "kernel": "python3",
   "name": "common-cu110.m91",
   "type": "gcloud",
   "uri": "gcr.io/deeplearning-platform-release/base-cu110:m91"
  },
  "kernelspec": {
   "display_name": "Python 3",
   "language": "python",
   "name": "python3"
  },
  "language_info": {
   "codemirror_mode": {
    "name": "ipython",
    "version": 3
   },
   "file_extension": ".py",
   "mimetype": "text/x-python",
   "name": "python",
   "nbconvert_exporter": "python",
   "pygments_lexer": "ipython3",
   "version": "3.7.12"
  }
 },
 "nbformat": 4,
 "nbformat_minor": 5
}
