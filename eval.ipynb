{
 "cells": [
  {
   "cell_type": "code",
   "execution_count": 56,
   "id": "2fdfe72c-52c9-4b34-b7dd-bed4ea581e3e",
   "metadata": {},
   "outputs": [],
   "source": [
    "import pandas as pd\n",
    "import json\n",
    "import collections\n",
    "import numpy as np"
   ]
  },
  {
   "cell_type": "code",
   "execution_count": 4,
   "id": "bd0cdba8-c0c4-40ad-a8ad-c4a140f2a670",
   "metadata": {},
   "outputs": [],
   "source": [
    "def accuracy(truth_json, predicted_path):\n",
    "    \n",
    "    predicted = pd.read_csv(predicted_path)\n",
    "    correct = 0\n",
    "    truth_dict = collections.Counter()\n",
    "    \n",
    "    with open(truth_json, 'r') as json_file:\n",
    "        json_list = list(json_file)\n",
    "\n",
    "    for i, json_str in enumerate(json_list):\n",
    "        result = json.loads(json_str)\n",
    "        truth_dict[result['label']] += 1\n",
    "        if result['label'] == predicted['label'][i]:\n",
    "            correct += 1\n",
    "    print(correct, len(json_list))\n",
    "    print(truth_dict.items())\n",
    "\n",
    "    return\n"
   ]
  },
  {
   "cell_type": "code",
   "execution_count": 57,
   "id": "62b8abdf-83c2-492f-829e-71cfe209e4f5",
   "metadata": {},
   "outputs": [],
   "source": [
    "def json_to_csv(truth_json):\n",
    "    dict = collections.defaultdict(list)\n",
    "    with open(truth_json, 'r') as json_file:\n",
    "        json_list = list(json_file)\n",
    "    for i, json_str in enumerate(json_list):\n",
    "        result = json.loads(json_str)\n",
    "        dict['label'].append(result['label'])\n",
    "        dict['id'].append(result['id'])\n",
    "        dict['text'].append(result['text'])\n",
    "    df = pd.DataFrame(data=dict)\n",
    "    return df\n",
    "\n",
    "def log_to_proba(file):\n",
    "    df = pd.read_csv(file)\n",
    "    df['proba'] = df['proba'].apply(lambda x: np.exp(x))\n",
    "    \n",
    "    df.to_csv(file)\n",
    "    return df\n",
    "        \n",
    "        \n",
    "    "
   ]
  },
  {
   "cell_type": "code",
   "execution_count": 60,
   "id": "3a294e81-3c18-4f5b-8916-df07b519a9b6",
   "metadata": {},
   "outputs": [
    {
     "data": {
      "text/html": [
       "<div>\n",
       "<style scoped>\n",
       "    .dataframe tbody tr th:only-of-type {\n",
       "        vertical-align: middle;\n",
       "    }\n",
       "\n",
       "    .dataframe tbody tr th {\n",
       "        vertical-align: top;\n",
       "    }\n",
       "\n",
       "    .dataframe thead th {\n",
       "        text-align: right;\n",
       "    }\n",
       "</style>\n",
       "<table border=\"1\" class=\"dataframe\">\n",
       "  <thead>\n",
       "    <tr style=\"text-align: right;\">\n",
       "      <th></th>\n",
       "      <th>id</th>\n",
       "      <th>proba</th>\n",
       "      <th>label</th>\n",
       "    </tr>\n",
       "  </thead>\n",
       "  <tbody>\n",
       "    <tr>\n",
       "      <th>0</th>\n",
       "      <td>16395</td>\n",
       "      <td>0.969714</td>\n",
       "      <td>1</td>\n",
       "    </tr>\n",
       "    <tr>\n",
       "      <th>1</th>\n",
       "      <td>37405</td>\n",
       "      <td>0.031993</td>\n",
       "      <td>1</td>\n",
       "    </tr>\n",
       "    <tr>\n",
       "      <th>2</th>\n",
       "      <td>94180</td>\n",
       "      <td>0.030658</td>\n",
       "      <td>0</td>\n",
       "    </tr>\n",
       "    <tr>\n",
       "      <th>3</th>\n",
       "      <td>54321</td>\n",
       "      <td>0.339809</td>\n",
       "      <td>0</td>\n",
       "    </tr>\n",
       "    <tr>\n",
       "      <th>4</th>\n",
       "      <td>97015</td>\n",
       "      <td>0.995357</td>\n",
       "      <td>1</td>\n",
       "    </tr>\n",
       "    <tr>\n",
       "      <th>...</th>\n",
       "      <td>...</td>\n",
       "      <td>...</td>\n",
       "      <td>...</td>\n",
       "    </tr>\n",
       "    <tr>\n",
       "      <th>995</th>\n",
       "      <td>3869</td>\n",
       "      <td>0.000435</td>\n",
       "      <td>0</td>\n",
       "    </tr>\n",
       "    <tr>\n",
       "      <th>996</th>\n",
       "      <td>23817</td>\n",
       "      <td>0.002383</td>\n",
       "      <td>0</td>\n",
       "    </tr>\n",
       "    <tr>\n",
       "      <th>997</th>\n",
       "      <td>56280</td>\n",
       "      <td>0.186905</td>\n",
       "      <td>0</td>\n",
       "    </tr>\n",
       "    <tr>\n",
       "      <th>998</th>\n",
       "      <td>29384</td>\n",
       "      <td>0.000658</td>\n",
       "      <td>0</td>\n",
       "    </tr>\n",
       "    <tr>\n",
       "      <th>999</th>\n",
       "      <td>34127</td>\n",
       "      <td>0.329384</td>\n",
       "      <td>0</td>\n",
       "    </tr>\n",
       "  </tbody>\n",
       "</table>\n",
       "<p>1000 rows × 3 columns</p>\n",
       "</div>"
      ],
      "text/plain": [
       "        id     proba  label\n",
       "0    16395  0.969714      1\n",
       "1    37405  0.031993      1\n",
       "2    94180  0.030658      0\n",
       "3    54321  0.339809      0\n",
       "4    97015  0.995357      1\n",
       "..     ...       ...    ...\n",
       "995   3869  0.000435      0\n",
       "996  23817  0.002383      0\n",
       "997  56280  0.186905      0\n",
       "998  29384  0.000658      0\n",
       "999  34127  0.329384      0\n",
       "\n",
       "[1000 rows x 3 columns]"
      ]
     },
     "execution_count": 60,
     "metadata": {},
     "output_type": "execute_result"
    }
   ],
   "source": [
    "log_to_proba(\"./vilio/Ensemble_files/U36_test_seen.csv\")\n",
    "log_to_proba(\"./vilio/data/O36/O36_test_seen_SA.csv\")"
   ]
  },
  {
   "cell_type": "code",
   "execution_count": 61,
   "id": "c7318bb1-0a8a-41ae-aec8-c43a3ce15a37",
   "metadata": {},
   "outputs": [],
   "source": [
    "test_ground_truth = json_to_csv('./vilio/data/test_unseen.jsonl')\n",
    "test_ground_truth.to_csv('./vilio/Ensemble_files/test.csv')"
   ]
  },
  {
   "cell_type": "code",
   "execution_count": 5,
   "id": "a8823014-0958-4746-a525-cedf9b3e91a7",
   "metadata": {},
   "outputs": [
    {
     "name": "stdout",
     "output_type": "stream",
     "text": [
      "589 1000\n",
      "dict_items([(0, 753), (1, 247)])\n"
     ]
    }
   ],
   "source": [
    "accuracy(\"./vilio/data/test_unseen.jsonl\", \"./vilio/data/O36/O36_test_seen_SA.csv\")"
   ]
  },
  {
   "cell_type": "code",
   "execution_count": 66,
   "id": "48f41c67-495b-493d-9979-81643f5d7267",
   "metadata": {},
   "outputs": [],
   "source": [
    "class Ensemble:\n",
    "    def __init__(self, ground_truth, uniter, oscar, visual_bert=None, vilbert=None):\n",
    "        self.ground_truth = pd.read_csv(ground_truth)\n",
    "        self.uniter = pd.read_csv(uniter)\n",
    "        self.oscar = pd.read_csv(oscar)\n",
    "        self.visual_bert = visual_bert\n",
    "        self.vilbert = vilbert\n",
    "    \n",
    "    def compare(self, predict):\n",
    "        correct = 0\n",
    "        all = len(predict)\n",
    "        for i in range(all):\n",
    "            if predict['result'][i] == self.ground_truth['label'][i]:\n",
    "                correct += 1\n",
    "        print(correct, '/', all, \"Accuracy:\", correct/all)\n",
    "        \n",
    "    \n",
    "    def simple_average(self):\n",
    "        \n",
    "        combined = pd.merge(self.uniter, self.oscar, on='id', suffixes=('_u', '_x'))\n",
    "        \n",
    "        cols = ['proba_u', 'proba_x']\n",
    "        \n",
    "        combined['avg'] = combined[cols].mean(axis=1)\n",
    "        combined['result'] = combined['avg'].apply(lambda x: 1 if x >= 0.5 else 0)\n",
    "        self.compare(combined)\n",
    "        \n",
    "        \n",
    "    \n",
    "    def weighted_average(self):\n",
    "        \n",
    "        return \n",
    "        \n",
    "        \n",
    "        "
   ]
  },
  {
   "cell_type": "code",
   "execution_count": 67,
   "id": "cdf9f4b9-922e-40da-9c46-195762cc00f2",
   "metadata": {},
   "outputs": [
    {
     "name": "stdout",
     "output_type": "stream",
     "text": [
      "597 / 1000 Accuracy: 0.597\n"
     ]
    }
   ],
   "source": [
    "ensemble = Ensemble(\"./vilio/Ensemble_files/test.csv\", \"./vilio/Ensemble_files/U36_test_seen.csv\", \"./vilio/data/O36/O36_test_seen_SA.csv\", None, None)\n",
    "ensemble.simple_average()"
   ]
  },
  {
   "cell_type": "code",
   "execution_count": 8,
   "id": "f89cf02a-8e40-4999-b58f-27e9d0290863",
   "metadata": {},
   "outputs": [
    {
     "name": "stdout",
     "output_type": "stream",
     "text": [
      "/home/jupyter/pdlsp-final-project\n"
     ]
    }
   ],
   "source": [
    "!pwd"
   ]
  },
  {
   "cell_type": "code",
   "execution_count": 9,
   "id": "6edd29be-0484-4cb4-8dc1-d84cee235824",
   "metadata": {},
   "outputs": [],
   "source": [
    "data = pd.read_csv(\"./vilio/Ensemble_files/U36_test_seen.csv\")"
   ]
  },
  {
   "cell_type": "code",
   "execution_count": 10,
   "id": "25a8e215-4c65-49f0-893a-18cbd8c1c6c2",
   "metadata": {},
   "outputs": [
    {
     "name": "stdout",
     "output_type": "stream",
     "text": [
      "        id     proba  label\n",
      "0    16395 -0.000083      1\n",
      "1    37405 -4.863254      0\n",
      "2    94180 -4.268325      0\n",
      "3    54321 -0.637010      1\n",
      "4    97015 -0.000358      1\n",
      "..     ...       ...    ...\n",
      "995   3869 -8.740327      0\n",
      "996  23817 -7.594582      0\n",
      "997  56280 -0.003411      1\n",
      "998  29384 -8.667371      0\n",
      "999  34127 -0.130345      1\n",
      "\n",
      "[1000 rows x 3 columns]\n"
     ]
    }
   ],
   "source": []
  },
  {
   "cell_type": "code",
   "execution_count": null,
   "id": "f8e62161-fe48-4c53-82ae-47865e08ca56",
   "metadata": {},
   "outputs": [],
   "source": []
  }
 ],
 "metadata": {
  "environment": {
   "kernel": "python3",
   "name": "pytorch-gpu.1-11.m91",
   "type": "gcloud",
   "uri": "gcr.io/deeplearning-platform-release/pytorch-gpu.1-11:m91"
  },
  "kernelspec": {
   "display_name": "Python 3",
   "language": "python",
   "name": "python3"
  },
  "language_info": {
   "codemirror_mode": {
    "name": "ipython",
    "version": 3
   },
   "file_extension": ".py",
   "mimetype": "text/x-python",
   "name": "python",
   "nbconvert_exporter": "python",
   "pygments_lexer": "ipython3",
   "version": "3.7.12"
  }
 },
 "nbformat": 4,
 "nbformat_minor": 5
}
