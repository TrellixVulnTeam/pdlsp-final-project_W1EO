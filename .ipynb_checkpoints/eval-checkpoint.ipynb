{
 "cells": [
  {
   "cell_type": "code",
   "execution_count": 1,
   "id": "2fdfe72c-52c9-4b34-b7dd-bed4ea581e3e",
   "metadata": {},
   "outputs": [],
   "source": [
    "import pandas as pd\n",
    "import json"
   ]
  },
  {
   "cell_type": "code",
   "execution_count": 2,
   "id": "bd0cdba8-c0c4-40ad-a8ad-c4a140f2a670",
   "metadata": {},
   "outputs": [],
   "source": [
    "def accuracy(truth_json, predicted_path):\n",
    "    \n",
    "    predicted = pd.read_csv(predicted_path)\n",
    "    correct = 0\n",
    "    \n",
    "    with open(truth_json, 'r') as json_file:\n",
    "        json_list = list(json_file)\n",
    "\n",
    "    for i, json_str in enumerate(json_list):\n",
    "        result = json.loads(json_str)\n",
    "        if result['label'] == predicted['label'][i]:\n",
    "            correct += 1\n",
    "    print(correct, len(json_list))\n",
    "\n",
    "    return\n"
   ]
  },
  {
   "cell_type": "code",
   "execution_count": 3,
   "id": "a8823014-0958-4746-a525-cedf9b3e91a7",
   "metadata": {},
   "outputs": [
    {
     "name": "stdout",
     "output_type": "stream",
     "text": [
      "7377 7500\n"
     ]
    }
   ],
   "source": [
    "accuracy(\"./vilio/data/train.jsonl\", \"./vilio/data/U36_train.csv\")"
   ]
  },
  {
   "cell_type": "code",
   "execution_count": null,
   "id": "48f41c67-495b-493d-9979-81643f5d7267",
   "metadata": {},
   "outputs": [],
   "source": []
  }
 ],
 "metadata": {
  "environment": {
   "kernel": "python3",
   "name": "pytorch-gpu.1-11.m91",
   "type": "gcloud",
   "uri": "gcr.io/deeplearning-platform-release/pytorch-gpu.1-11:m91"
  },
  "kernelspec": {
   "display_name": "Python 3",
   "language": "python",
   "name": "python3"
  },
  "language_info": {
   "codemirror_mode": {
    "name": "ipython",
    "version": 3
   },
   "file_extension": ".py",
   "mimetype": "text/x-python",
   "name": "python",
   "nbconvert_exporter": "python",
   "pygments_lexer": "ipython3",
   "version": "3.7.12"
  }
 },
 "nbformat": 4,
 "nbformat_minor": 5
}
